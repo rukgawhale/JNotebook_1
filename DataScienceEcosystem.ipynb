{
 "cells": [
  {
   "cell_type": "markdown",
   "id": "cd7ce85e-a51f-4cdf-8593-41632a3ec397",
   "metadata": {},
   "source": [
    "In this notebook, Data Science Tools and Ecosystem are summarized."
   ]
  },
  {
   "cell_type": "markdown",
   "id": "ec91c24d-def2-403d-a2c3-206314d57af0",
   "metadata": {},
   "source": [
    "Some of the popular languages that Data Scientists use are:"
   ]
  },
  {
   "cell_type": "markdown",
   "id": "04b6481c-f80b-4291-87f8-2c999d5d554e",
   "metadata": {},
   "source": [
    "|Data Science Tools|\n",
    "|--------|\n",
    "|Git|\n",
    "|Visual Studio|\n",
    "|Anaconda|\n"
   ]
  },
  {
   "cell_type": "markdown",
   "id": "301b3649-e768-4858-ae61-c76ed02c2d53",
   "metadata": {},
   "source": [
    "|Data Science Tools|\n",
    "|--------|\n",
    "|Git|\n",
    "|Visual Studio|\n",
    "|Anaconda|\n"
   ]
  },
  {
   "cell_type": "markdown",
   "id": "0704dabb-51e0-40ce-91b0-0c28ae3261e7",
   "metadata": {},
   "source": [
    "### Below are a few examples of evaluating arithmetic expressions in Python.\n"
   ]
  },
  {
   "cell_type": "code",
   "execution_count": 3,
   "id": "3f6e0186-50f1-4144-82e7-6c7213b94a89",
   "metadata": {
    "tags": []
   },
   "outputs": [
    {
     "data": {
      "text/plain": [
       "17"
      ]
     },
     "execution_count": 3,
     "metadata": {},
     "output_type": "execute_result"
    }
   ],
   "source": [
    "#This a simple arithmetic expression to mutiply then add integers\n",
    "(3*4)+5"
   ]
  },
  {
   "cell_type": "code",
   "execution_count": 4,
   "id": "9da7a77f-0667-4cc0-b497-0ab2ed098722",
   "metadata": {
    "tags": []
   },
   "outputs": [
    {
     "data": {
      "text/plain": [
       "3.3333333333333335"
      ]
     },
     "execution_count": 4,
     "metadata": {},
     "output_type": "execute_result"
    }
   ],
   "source": [
    "#This will convert 200 minutes to hours by diving by 60\n",
    "200/60\n"
   ]
  },
  {
   "cell_type": "markdown",
   "id": "b8ebcee7-ade6-457d-b992-a1818c6aff3d",
   "metadata": {},
   "source": [
    "<b>Objectives:</b>\n",
    "<ul> List popular languages for Data Science\n"
   ]
  },
  {
   "cell_type": "markdown",
   "id": "fa9e2ac8-5ee4-47dc-9448-a747a0594301",
   "metadata": {},
   "source": [
    "<b>Objectives:<b>\n",
    "    <ul> List popular languages for Data Science\n",
    "        <ul> Languages of Data Science \n",
    "            <ul> Tools of Data Science"
   ]
  },
  {
   "cell_type": "markdown",
   "id": "954ae148-475d-45bd-b2a5-49242f200a22",
   "metadata": {},
   "source": [
    "## Author\n",
    "# RKG"
   ]
  },
  {
   "cell_type": "markdown",
   "id": "971f0108-3d47-49e0-a9d0-aa341c538815",
   "metadata": {},
   "source": [
    "## Author\n",
    "RKG\n"
   ]
  },
  {
   "cell_type": "markdown",
   "id": "47216ec0-f293-4b2c-9aa0-c45e517c7a66",
   "metadata": {},
   "source": [
    "## Ordered List\n",
    "<ol> Python\n",
    "<ol> R\n",
    "<ol> SQL\n",
    "<ol> Scala\n",
    "<ol> Java"
   ]
  },
  {
   "cell_type": "markdown",
   "id": "5f54c1b7-a149-4ee5-af81-9e368965f405",
   "metadata": {},
   "source": [
    "# Ordered List:\n",
    "1. Python\n",
    "2. R\n"
   ]
  },
  {
   "cell_type": "markdown",
   "id": "50602cbd-fed1-4bcd-8804-632d074d7b8c",
   "metadata": {},
   "source": [
    "# Ordered List\n",
    "1. Python\n",
    "1. R\n",
    "1. SQL\n",
    "1. Scala\n",
    "1. Java"
   ]
  },
  {
   "cell_type": "code",
   "execution_count": null,
   "id": "c3dd5110-73f9-4256-9713-f085b444f6c0",
   "metadata": {},
   "outputs": [],
   "source": []
  }
 ],
 "metadata": {
  "kernelspec": {
   "display_name": "Python",
   "language": "python",
   "name": "conda-env-python-py"
  },
  "language_info": {
   "codemirror_mode": {
    "name": "ipython",
    "version": 3
   },
   "file_extension": ".py",
   "mimetype": "text/x-python",
   "name": "python",
   "nbconvert_exporter": "python",
   "pygments_lexer": "ipython3",
   "version": "3.7.12"
  }
 },
 "nbformat": 4,
 "nbformat_minor": 5
}
